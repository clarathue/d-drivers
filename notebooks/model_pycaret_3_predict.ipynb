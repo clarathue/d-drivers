{
 "cells": [
  {
   "cell_type": "code",
   "execution_count": 33,
   "metadata": {},
   "outputs": [
    {
     "name": "stdout",
     "output_type": "stream",
     "text": [
      "Transformation Pipeline and Model Successfully Loaded\n"
     ]
    }
   ],
   "source": [
    "import pandas as pd\n",
    "import pickle\n",
    "import pycaret.regression as pyreg\n",
    "\n",
    "model_loaded = pyreg.load_model('../models/lightgbm_tuned_ext_imp_pt')\n"
   ]
  },
  {
   "cell_type": "code",
   "execution_count": 44,
   "metadata": {},
   "outputs": [],
   "source": [
    "\n",
    "\n",
    "# Initialize Light Gradient Boost Machine model\n",
    "file_path_model = \"../streamlit_app/pages/power_transformer_ext_impr.pkl\"\n",
    "with open(file_path_model, \"rb\") as file:\n",
    "    loaded_pt = pickle.load(file)\n",
    "\n",
    "\n",
    "def inverse_transform(predicted_value, pt):\n",
    "    if isinstance(predicted_value, float):\n",
    "        # Reshape the predicted value for inverse transformation\n",
    "        predicted_value_transformed = [[predicted_value]]\n",
    "    else:\n",
    "        # Reshape the predicted value for inverse transformation\n",
    "        predicted_value_transformed = predicted_value.reshape(-1, 1)\n",
    "\n",
    "    # Inverse transform the predicted value\n",
    "    return pt.inverse_transform(predicted_value_transformed)\n",
    "\n",
    "\n",
    "def predict_ext_imp(x, model_predict, model_transform): \n",
    "    # predict\n",
    "    y_trans = model_predict.predict(x)\n",
    "    # inverse transform\n",
    "    y = inverse_transform(y_trans, model_transform)\n",
    "    return y"
   ]
  },
  {
   "cell_type": "markdown",
   "metadata": {},
   "source": [
    "# 2. predict\n"
   ]
  },
  {
   "cell_type": "code",
   "execution_count": 30,
   "metadata": {},
   "outputs": [],
   "source": [
    "instance_dict = {\n",
    "    \"word_count\": 390,\n",
    "    \"classification_product\": 'Solaranlagen',\n",
    "    \"classification_type\": 'Kaufberatung',\n",
    "    \"urls_per_days\": 0.1,\n",
    "    \"meta_title_len\": 75,\n",
    "    \"meta_desc_len\": 145,\n",
    "    \"h1_len\": 66,\n",
    "    \"abstract_len\": 250,\n",
    "    \"google_trend_label\": 'elektroauto',\n",
    "    \"google_trend_score\": 33,\n",
    "    \"video_player_types\": '2 - Standard and Widget',\n",
    "    \"media_type\": 'video',\n",
    "    \"author_list\": 'Lisa Brack',\n",
    "}\n"
   ]
  },
  {
   "cell_type": "code",
   "execution_count": 31,
   "metadata": {},
   "outputs": [],
   "source": [
    "df_pred = pd.DataFrame([instance_dict])"
   ]
  },
  {
   "cell_type": "code",
   "execution_count": 45,
   "metadata": {},
   "outputs": [
    {
     "name": "stdout",
     "output_type": "stream",
     "text": [
      "[LightGBM] [Warning] bagging_freq is set=0, subsample_freq=0 will be ignored. Current value: bagging_freq=0\n",
      "[LightGBM] [Warning] feature_fraction is set=0.8, colsample_bytree=1.0 will be ignored. Current value: feature_fraction=0.8\n",
      "[LightGBM] [Warning] bagging_fraction is set=0.8, subsample=1.0 will be ignored. Current value: bagging_fraction=0.8\n"
     ]
    },
    {
     "data": {
      "text/plain": [
       "1202124.2238394711"
      ]
     },
     "execution_count": 45,
     "metadata": {},
     "output_type": "execute_result"
    }
   ],
   "source": [
    "y = predict_ext_imp(df_pred, model_loaded, loaded_pt)\n",
    "y[0][0]"
   ]
  }
 ],
 "metadata": {
  "kernelspec": {
   "display_name": ".venv",
   "language": "python",
   "name": "python3"
  },
  "language_info": {
   "codemirror_mode": {
    "name": "ipython",
    "version": 3
   },
   "file_extension": ".py",
   "mimetype": "text/x-python",
   "name": "python",
   "nbconvert_exporter": "python",
   "pygments_lexer": "ipython3",
   "version": "3.11.3"
  }
 },
 "nbformat": 4,
 "nbformat_minor": 2
}
